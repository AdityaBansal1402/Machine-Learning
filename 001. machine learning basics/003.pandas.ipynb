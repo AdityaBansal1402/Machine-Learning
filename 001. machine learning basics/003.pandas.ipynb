{
 "cells": [
  {
   "cell_type": "code",
   "execution_count": 1,
   "id": "56092a03",
   "metadata": {},
   "outputs": [],
   "source": [
    "import pandas as pd\n",
    "import matplotlib.pyplot as plt\n",
    "import numpy as np"
   ]
  },
  {
   "cell_type": "code",
   "execution_count": 2,
   "id": "15b11fbc",
   "metadata": {},
   "outputs": [],
   "source": [
    "df=pd.read_csv(\"./000.datasets/movies.csv\")"
   ]
  },
  {
   "cell_type": "code",
   "execution_count": 3,
   "id": "f8078614",
   "metadata": {},
   "outputs": [
    {
     "data": {
      "text/html": [
       "<div>\n",
       "<style scoped>\n",
       "    .dataframe tbody tr th:only-of-type {\n",
       "        vertical-align: middle;\n",
       "    }\n",
       "\n",
       "    .dataframe tbody tr th {\n",
       "        vertical-align: top;\n",
       "    }\n",
       "\n",
       "    .dataframe thead th {\n",
       "        text-align: right;\n",
       "    }\n",
       "</style>\n",
       "<table border=\"1\" class=\"dataframe\">\n",
       "  <thead>\n",
       "    <tr style=\"text-align: right;\">\n",
       "      <th></th>\n",
       "      <th>Film</th>\n",
       "      <th>Genre</th>\n",
       "      <th>Lead Studio</th>\n",
       "      <th>Audience score %</th>\n",
       "      <th>Profitability</th>\n",
       "      <th>Rotten Tomatoes %</th>\n",
       "      <th>Worldwide Gross</th>\n",
       "      <th>Year</th>\n",
       "    </tr>\n",
       "  </thead>\n",
       "  <tbody>\n",
       "    <tr>\n",
       "      <th>0</th>\n",
       "      <td>Zack and Miri Make a Porno</td>\n",
       "      <td>Romance</td>\n",
       "      <td>The Weinstein Company</td>\n",
       "      <td>70</td>\n",
       "      <td>1.747542</td>\n",
       "      <td>64</td>\n",
       "      <td>$41.94</td>\n",
       "      <td>2008</td>\n",
       "    </tr>\n",
       "    <tr>\n",
       "      <th>1</th>\n",
       "      <td>Youth in Revolt</td>\n",
       "      <td>Comedy</td>\n",
       "      <td>The Weinstein Company</td>\n",
       "      <td>52</td>\n",
       "      <td>1.090000</td>\n",
       "      <td>68</td>\n",
       "      <td>$19.62</td>\n",
       "      <td>2010</td>\n",
       "    </tr>\n",
       "    <tr>\n",
       "      <th>2</th>\n",
       "      <td>You Will Meet a Tall Dark Stranger</td>\n",
       "      <td>Comedy</td>\n",
       "      <td>Independent</td>\n",
       "      <td>35</td>\n",
       "      <td>1.211818</td>\n",
       "      <td>43</td>\n",
       "      <td>$26.66</td>\n",
       "      <td>2010</td>\n",
       "    </tr>\n",
       "    <tr>\n",
       "      <th>3</th>\n",
       "      <td>When in Rome</td>\n",
       "      <td>Comedy</td>\n",
       "      <td>Disney</td>\n",
       "      <td>44</td>\n",
       "      <td>0.000000</td>\n",
       "      <td>15</td>\n",
       "      <td>$43.04</td>\n",
       "      <td>2010</td>\n",
       "    </tr>\n",
       "    <tr>\n",
       "      <th>4</th>\n",
       "      <td>What Happens in Vegas</td>\n",
       "      <td>Comedy</td>\n",
       "      <td>Fox</td>\n",
       "      <td>72</td>\n",
       "      <td>6.267647</td>\n",
       "      <td>28</td>\n",
       "      <td>$219.37</td>\n",
       "      <td>2008</td>\n",
       "    </tr>\n",
       "    <tr>\n",
       "      <th>5</th>\n",
       "      <td>Water For Elephants</td>\n",
       "      <td>Drama</td>\n",
       "      <td>20th Century Fox</td>\n",
       "      <td>72</td>\n",
       "      <td>3.081421</td>\n",
       "      <td>60</td>\n",
       "      <td>$117.09</td>\n",
       "      <td>2011</td>\n",
       "    </tr>\n",
       "    <tr>\n",
       "      <th>6</th>\n",
       "      <td>WALL-E</td>\n",
       "      <td>Animation</td>\n",
       "      <td>Disney</td>\n",
       "      <td>89</td>\n",
       "      <td>2.896019</td>\n",
       "      <td>96</td>\n",
       "      <td>$521.28</td>\n",
       "      <td>2008</td>\n",
       "    </tr>\n",
       "    <tr>\n",
       "      <th>7</th>\n",
       "      <td>Waitress</td>\n",
       "      <td>Romance</td>\n",
       "      <td>Independent</td>\n",
       "      <td>67</td>\n",
       "      <td>11.089742</td>\n",
       "      <td>89</td>\n",
       "      <td>$22.18</td>\n",
       "      <td>2007</td>\n",
       "    </tr>\n",
       "    <tr>\n",
       "      <th>8</th>\n",
       "      <td>Waiting For Forever</td>\n",
       "      <td>Romance</td>\n",
       "      <td>Independent</td>\n",
       "      <td>53</td>\n",
       "      <td>0.005000</td>\n",
       "      <td>6</td>\n",
       "      <td>$0.03</td>\n",
       "      <td>2011</td>\n",
       "    </tr>\n",
       "    <tr>\n",
       "      <th>9</th>\n",
       "      <td>Valentine's Day</td>\n",
       "      <td>Comedy</td>\n",
       "      <td>Warner Bros.</td>\n",
       "      <td>54</td>\n",
       "      <td>4.184038</td>\n",
       "      <td>17</td>\n",
       "      <td>$217.57</td>\n",
       "      <td>2010</td>\n",
       "    </tr>\n",
       "  </tbody>\n",
       "</table>\n",
       "</div>"
      ],
      "text/plain": [
       "                                 Film      Genre            Lead Studio  \\\n",
       "0          Zack and Miri Make a Porno    Romance  The Weinstein Company   \n",
       "1                     Youth in Revolt     Comedy  The Weinstein Company   \n",
       "2  You Will Meet a Tall Dark Stranger     Comedy            Independent   \n",
       "3                        When in Rome     Comedy                 Disney   \n",
       "4               What Happens in Vegas     Comedy                    Fox   \n",
       "5                 Water For Elephants      Drama       20th Century Fox   \n",
       "6                              WALL-E  Animation                 Disney   \n",
       "7                            Waitress    Romance            Independent   \n",
       "8                 Waiting For Forever    Romance            Independent   \n",
       "9                     Valentine's Day     Comedy           Warner Bros.   \n",
       "\n",
       "   Audience score %  Profitability  Rotten Tomatoes % Worldwide Gross  Year  \n",
       "0                70       1.747542                 64         $41.94   2008  \n",
       "1                52       1.090000                 68         $19.62   2010  \n",
       "2                35       1.211818                 43         $26.66   2010  \n",
       "3                44       0.000000                 15         $43.04   2010  \n",
       "4                72       6.267647                 28        $219.37   2008  \n",
       "5                72       3.081421                 60        $117.09   2011  \n",
       "6                89       2.896019                 96        $521.28   2008  \n",
       "7                67      11.089742                 89         $22.18   2007  \n",
       "8                53       0.005000                  6          $0.03   2011  \n",
       "9                54       4.184038                 17        $217.57   2010  "
      ]
     },
     "execution_count": 3,
     "metadata": {},
     "output_type": "execute_result"
    }
   ],
   "source": [
    "df.head(10)"
   ]
  },
  {
   "cell_type": "code",
   "execution_count": 4,
   "id": "87ea0595",
   "metadata": {},
   "outputs": [
    {
     "data": {
      "text/plain": [
       "Index(['Film', 'Genre', 'Lead Studio', 'Audience score %', 'Profitability',\n",
       "       'Rotten Tomatoes %', 'Worldwide Gross', 'Year'],\n",
       "      dtype='object')"
      ]
     },
     "execution_count": 4,
     "metadata": {},
     "output_type": "execute_result"
    }
   ],
   "source": [
    "df.columns"
   ]
  },
  {
   "cell_type": "code",
   "execution_count": 5,
   "id": "4ce540a8",
   "metadata": {},
   "outputs": [],
   "source": [
    "titles=list(df.get('Film'))"
   ]
  },
  {
   "cell_type": "code",
   "execution_count": 6,
   "id": "a0e11de2",
   "metadata": {},
   "outputs": [
    {
     "name": "stdout",
     "output_type": "stream",
     "text": [
      "<class 'list'>\n",
      "['Zack and Miri Make a Porno', 'Youth in Revolt', 'You Will Meet a Tall Dark Stranger', 'When in Rome', 'What Happens in Vegas', 'Water For Elephants', 'WALL-E', 'Waitress', 'Waiting For Forever', \"Valentine's Day\", \"Tyler Perry's Why Did I get Married\", 'Twilight: Breaking Dawn', 'Twilight', 'The Ugly Truth', 'The Twilight Saga: New Moon', \"The Time Traveler's Wife\", 'The Proposal', 'The Invention of Lying', 'The Heartbreak Kid', 'The Duchess', 'The Curious Case of Benjamin Button', 'The Back-up Plan', 'Tangled', 'Something Borrowed', \"She's Out of My League\", 'Sex and the City Two', 'Sex and the City 2', 'Sex and the City', 'Remember Me', 'Rachel Getting Married', 'Penelope', 'P.S. I Love You', 'Over Her Dead Body', 'Our Family Wedding', 'One Day', 'Not Easily Broken', 'No Reservations', \"Nick and Norah's Infinite Playlist\", \"New Year's Eve\", 'My Week with Marilyn', 'Music and Lyrics', 'Monte Carlo', 'Miss Pettigrew Lives for a Day', 'Midnight in Paris', 'Marley and Me', 'Mamma Mia!', 'Mamma Mia!', 'Made of Honor', 'Love Happens', 'Love & Other Drugs', 'Life as We Know It', 'License to Wed', 'Letters to Juliet', 'Leap Year', 'Knocked Up', 'Killers', 'Just Wright', 'Jane Eyre', \"It's Complicated\", 'I Love You Phillip Morris', 'High School Musical 3: Senior Year', \"He's Just Not That Into You\", 'Good Luck Chuck', 'Going the Distance', 'Gnomeo and Juliet', 'Gnomeo and Juliet', 'Ghosts of Girlfriends Past', 'Four Christmases', 'Fireproof', 'Enchanted', 'Dear John', 'Beginners', 'Across the Universe', 'A Serious Man', 'A Dangerous Method', '27 Dresses', '(500) Days of Summer']\n"
     ]
    }
   ],
   "source": [
    "print(type(titles))\n",
    "print(titles)"
   ]
  },
  {
   "cell_type": "code",
   "execution_count": 7,
   "id": "848e1928",
   "metadata": {},
   "outputs": [
    {
     "name": "stdout",
     "output_type": "stream",
     "text": [
      "['Zack and Miri Make a Porno', 'Youth in Revolt', 'You Will Meet a Tall Dark Stranger', 'When in Rome', 'What Happens in Vegas']\n"
     ]
    }
   ],
   "source": [
    "print(titles[:5])"
   ]
  },
  {
   "cell_type": "code",
   "execution_count": 8,
   "id": "9a039783",
   "metadata": {},
   "outputs": [],
   "source": [
    "freq_titles={}\n",
    "for title in titles:\n",
    "    length=len(title)\n",
    "    \n",
    "    if freq_titles.get(length) is None:\n",
    "        freq_titles[length]=1\n",
    "    else:\n",
    "        freq_titles[length]+=1"
   ]
  },
  {
   "cell_type": "code",
   "execution_count": 9,
   "id": "c723851f",
   "metadata": {},
   "outputs": [
    {
     "name": "stdout",
     "output_type": "stream",
     "text": [
      "{26: 2, 15: 5, 34: 3, 12: 3, 21: 1, 19: 3, 6: 1, 8: 3, 35: 2, 23: 1, 14: 3, 27: 2, 24: 1, 22: 3, 18: 9, 11: 4, 16: 5, 7: 3, 20: 3, 17: 5, 30: 1, 13: 3, 10: 4, 9: 6, 25: 1}\n"
     ]
    }
   ],
   "source": [
    "print(freq_titles)"
   ]
  },
  {
   "cell_type": "code",
   "execution_count": 10,
   "id": "aa624063",
   "metadata": {},
   "outputs": [
    {
     "name": "stdout",
     "output_type": "stream",
     "text": [
      "[26 15 34 12 21 19  6  8 35 23 14 27 24 22 18 11 16  7 20 17 30 13 10  9\n",
      " 25] [2 5 3 3 1 3 1 3 2 1 3 2 1 3 9 4 5 3 3 5 1 3 4 6 1]\n"
     ]
    }
   ],
   "source": [
    "x=np.array(list(freq_titles.keys()))\n",
    "y=np.array(list(freq_titles.values()))\n",
    "print(x,y)"
   ]
  },
  {
   "cell_type": "code",
   "execution_count": 11,
   "id": "44459b78",
   "metadata": {},
   "outputs": [],
   "source": [
    "plt.style.use(\"seaborn-dark\")"
   ]
  },
  {
   "cell_type": "code",
   "execution_count": 12,
   "id": "60e95b22",
   "metadata": {},
   "outputs": [
    {
     "data": {
      "image/png": "[encoded data removed]",
      "text/plain": [
       "<Figure size 720x720 with 1 Axes>"
      ]
     },
     "metadata": {},
     "output_type": "display_data"
    }
   ],
   "source": [
    "plt.style.use(\"dark_background\")\n",
    "plt.figure(figsize=(10,10))\n",
    "plt.scatter(x,y,marker='^',color='lime')\n",
    "plt.xlim(0,40)\n",
    "plt.ylim(0,10)\n",
    "plt.xlabel('Length of movie name')\n",
    "plt.ylabel(\"No. Of Movies\")\n",
    "plt.title(\"Movie Data Visualisation\")\n",
    "plt.show()"
   ]
  },
  {
   "cell_type": "code",
   "execution_count": null,
   "id": "8ebf13b6",
   "metadata": {},
   "outputs": [],
   "source": []
  },
  {
   "cell_type": "code",
   "execution_count": null,
   "id": "30db4cd8",
   "metadata": {},
   "outputs": [],
   "source": []
  }
 ],
 "metadata": {
  "kernelspec": {
   "display_name": "Python 3 (ipykernel)",
   "language": "python",
   "name": "python3"
  },
  "language_info": {
   "codemirror_mode": {
    "name": "ipython",
    "version": 3
   },
   "file_extension": ".py",
   "mimetype": "text/x-python",
   "name": "python",
   "nbconvert_exporter": "python",
   "pygments_lexer": "ipython3",
   "version": "3.9.5"
  }
 },
 "nbformat": 4,
 "nbformat_minor": 5
}
