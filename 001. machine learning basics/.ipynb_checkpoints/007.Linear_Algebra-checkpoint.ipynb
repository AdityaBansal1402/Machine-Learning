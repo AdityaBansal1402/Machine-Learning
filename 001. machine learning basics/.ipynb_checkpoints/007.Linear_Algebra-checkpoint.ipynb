{
 "cells": [
  {
   "cell_type": "code",
   "execution_count": 1,
   "id": "d4e21dcd",
   "metadata": {},
   "outputs": [],
   "source": [
    "import numpy as np"
   ]
  },
  {
   "cell_type": "code",
   "execution_count": 2,
   "id": "f9d68ff2",
   "metadata": {},
   "outputs": [
    {
     "name": "stdout",
     "output_type": "stream",
     "text": [
      "[[4]\n",
      " [5]\n",
      " [6]]\n",
      "(3, 1)\n"
     ]
    }
   ],
   "source": [
    "#vector \n",
    "x=np.array([[4],[5],[6]])\n",
    "print(x)\n",
    "print(x.shape)"
   ]
  },
  {
   "cell_type": "code",
   "execution_count": 3,
   "id": "e11a6559",
   "metadata": {},
   "outputs": [
    {
     "data": {
      "image/png": "[encoded data removed]",
      "text/plain": [
       "<Figure size 432x288 with 1 Axes>"
      ]
     },
     "metadata": {
      "needs_background": "light"
     },
     "output_type": "display_data"
    }
   ],
   "source": [
    "#Tensor\n",
    "T=np.ones((5,5,3),dtype='uint8')\n",
    "T[ : , : ,1]=225\n",
    "import matplotlib.pyplot as plt\n",
    "plt.imshow(T)\n",
    "plt.show()"
   ]
  },
  {
   "cell_type": "code",
   "execution_count": 4,
   "id": "628754d2",
   "metadata": {},
   "outputs": [
    {
     "name": "stdout",
     "output_type": "stream",
     "text": [
      "[[4]\n",
      " [5]\n",
      " [6]]\n",
      "[[4 5 6]]\n"
     ]
    }
   ],
   "source": [
    "#transpose\n",
    "print(x)\n",
    "x1=x.T\n",
    "print(x1)"
   ]
  },
  {
   "cell_type": "code",
   "execution_count": 5,
   "id": "4d760adf",
   "metadata": {},
   "outputs": [
    {
     "name": "stdout",
     "output_type": "stream",
     "text": [
      "(5, 5, 3)\n",
      "(3, 5, 5)\n"
     ]
    }
   ],
   "source": [
    "print(T.shape)\n",
    "T1=np.transpose(T)\n",
    "print(T1.shape)"
   ]
  },
  {
   "cell_type": "code",
   "execution_count": 6,
   "id": "0698887f",
   "metadata": {},
   "outputs": [
    {
     "name": "stdout",
     "output_type": "stream",
     "text": [
      "[1 2 3 4]\n",
      "[4 5 6 7]\n"
     ]
    }
   ],
   "source": [
    "#broadcasting\n",
    "x=np.array([1,2,3,4])\n",
    "print(x)\n",
    "print(x+3)"
   ]
  },
  {
   "cell_type": "code",
   "execution_count": 7,
   "id": "f1f83d4b",
   "metadata": {},
   "outputs": [
    {
     "name": "stdout",
     "output_type": "stream",
     "text": [
      "[[10 20 30 40]\n",
      " [40 50 60 70]]\n",
      "[[11 22 33 44]\n",
      " [41 52 63 74]]\n"
     ]
    }
   ],
   "source": [
    "X=np.array([[10,20,30,40],\n",
    "            [40,50,60,70]])\n",
    "print(X)\n",
    "print(X+x)"
   ]
  },
  {
   "cell_type": "code",
   "execution_count": 15,
   "id": "5122dd7f",
   "metadata": {},
   "outputs": [
    {
     "name": "stdout",
     "output_type": "stream",
     "text": [
      "11.575836902790225 18.0 10.482965576835586 10.0\n"
     ]
    }
   ],
   "source": [
    "#norm\n",
    "x=np.array([-5,3,10])\n",
    "lp2=np.linalg.norm(x)\n",
    "lp1=np.linalg.norm(x,ord=1)\n",
    "lp3=np.linalg.norm(x,ord=3)\n",
    "lpinf=np.linalg.norm(x,ord=np.inf)\n",
    "print(lp2,lp1,lp3,lpinf)"
   ]
  },
  {
   "cell_type": "code",
   "execution_count": 19,
   "id": "348a7c2c",
   "metadata": {},
   "outputs": [
    {
     "name": "stdout",
     "output_type": "stream",
     "text": [
      "-15.0\n"
     ]
    }
   ],
   "source": [
    "a=np.array([[3,6],\n",
    "            [7,9]])\n",
    "print(np.linalg.det(a))"
   ]
  },
  {
   "cell_type": "code",
   "execution_count": 20,
   "id": "71459c7c",
   "metadata": {},
   "outputs": [
    {
     "name": "stdout",
     "output_type": "stream",
     "text": [
      "[[ 1.00000000e+00  2.22044605e-16]\n",
      " [-2.22044605e-16  1.00000000e+00]]\n"
     ]
    }
   ],
   "source": [
    "ainv=np.linalg.inv(a)\n",
    "print(np.dot(a,ainv))"
   ]
  },
  {
   "cell_type": "code",
   "execution_count": 22,
   "id": "e1c4712b",
   "metadata": {},
   "outputs": [
    {
     "name": "stdout",
     "output_type": "stream",
     "text": [
      "0.0\n",
      "[[0.032 0.024]\n",
      " [0.064 0.048]]\n"
     ]
    }
   ],
   "source": [
    "A=np.array([[4,8],\n",
    "            [3,6]])\n",
    "print(np.linalg.det(A))\n",
    "print(np.linalg.pinv(A))"
   ]
  },
  {
   "cell_type": "code",
   "execution_count": 23,
   "id": "c29e66eb",
   "metadata": {},
   "outputs": [
    {
     "name": "stdout",
     "output_type": "stream",
     "text": [
      "[1. 2.]\n"
     ]
    }
   ],
   "source": [
    "a=np.array([[2,3],\n",
    "            [3,1]])\n",
    "b=np.array([8,5])\n",
    "print(np.linalg.solve(a,b))"
   ]
  },
  {
   "cell_type": "code",
   "execution_count": null,
   "id": "f17e5059",
   "metadata": {},
   "outputs": [],
   "source": []
  }
 ],
 "metadata": {
  "kernelspec": {
   "display_name": "Python 3 (ipykernel)",
   "language": "python",
   "name": "python3"
  },
  "language_info": {
   "codemirror_mode": {
    "name": "ipython",
    "version": 3
   },
   "file_extension": ".py",
   "mimetype": "text/x-python",
   "name": "python",
   "nbconvert_exporter": "python",
   "pygments_lexer": "ipython3",
   "version": "3.9.5"
  }
 },
 "nbformat": 4,
 "nbformat_minor": 5
}
