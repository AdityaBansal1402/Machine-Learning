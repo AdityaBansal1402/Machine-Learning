{
 "cells": [
  {
   "cell_type": "code",
   "execution_count": 2,
   "id": "990a5591",
   "metadata": {},
   "outputs": [],
   "source": [
    "import numpy as np\n",
    "import pandas as pd"
   ]
  },
  {
   "cell_type": "code",
   "execution_count": 3,
   "id": "9ff35cf7",
   "metadata": {},
   "outputs": [],
   "source": [
    "my_data={\n",
    "    \"MarksA\":np.random.randint(1,100,5),\n",
    "    \"MarksB\":np.random.randint(5,100,5),\n",
    "    \"MarksC\":np.random.randint(1,100,5),\n",
    "\n",
    "}"
   ]
  },
  {
   "cell_type": "code",
   "execution_count": 4,
   "id": "3a283589",
   "metadata": {},
   "outputs": [
    {
     "name": "stdout",
     "output_type": "stream",
     "text": [
      "{'MarksA': array([73, 59, 90, 64, 36]), 'MarksB': array([39, 24, 53, 35, 61]), 'MarksC': array([56, 10, 53, 84, 93])}\n"
     ]
    }
   ],
   "source": [
    "print(my_data)"
   ]
  },
  {
   "cell_type": "code",
   "execution_count": 5,
   "id": "ca61a1fc",
   "metadata": {},
   "outputs": [
    {
     "name": "stdout",
     "output_type": "stream",
     "text": [
      "   MarksA  MarksB  MarksC\n",
      "0    73.0    39.0    56.0\n",
      "1    59.0    24.0    10.0\n",
      "2    90.0    53.0    53.0\n",
      "3    64.0    35.0    84.0\n",
      "4    36.0    61.0    93.0\n"
     ]
    }
   ],
   "source": [
    "df=pd.DataFrame(my_data,dtype='float32')\n",
    "print(df)"
   ]
  },
  {
   "cell_type": "code",
   "execution_count": 6,
   "id": "09fe74ab",
   "metadata": {},
   "outputs": [
    {
     "data": {
      "text/html": [
       "<div>\n",
       "<style scoped>\n",
       "    .dataframe tbody tr th:only-of-type {\n",
       "        vertical-align: middle;\n",
       "    }\n",
       "\n",
       "    .dataframe tbody tr th {\n",
       "        vertical-align: top;\n",
       "    }\n",
       "\n",
       "    .dataframe thead th {\n",
       "        text-align: right;\n",
       "    }\n",
       "</style>\n",
       "<table border=\"1\" class=\"dataframe\">\n",
       "  <thead>\n",
       "    <tr style=\"text-align: right;\">\n",
       "      <th></th>\n",
       "      <th>MarksA</th>\n",
       "      <th>MarksB</th>\n",
       "      <th>MarksC</th>\n",
       "    </tr>\n",
       "  </thead>\n",
       "  <tbody>\n",
       "    <tr>\n",
       "      <th>0</th>\n",
       "      <td>73.0</td>\n",
       "      <td>39.0</td>\n",
       "      <td>56.0</td>\n",
       "    </tr>\n",
       "    <tr>\n",
       "      <th>1</th>\n",
       "      <td>59.0</td>\n",
       "      <td>24.0</td>\n",
       "      <td>10.0</td>\n",
       "    </tr>\n",
       "    <tr>\n",
       "      <th>2</th>\n",
       "      <td>90.0</td>\n",
       "      <td>53.0</td>\n",
       "      <td>53.0</td>\n",
       "    </tr>\n",
       "    <tr>\n",
       "      <th>3</th>\n",
       "      <td>64.0</td>\n",
       "      <td>35.0</td>\n",
       "      <td>84.0</td>\n",
       "    </tr>\n",
       "    <tr>\n",
       "      <th>4</th>\n",
       "      <td>36.0</td>\n",
       "      <td>61.0</td>\n",
       "      <td>93.0</td>\n",
       "    </tr>\n",
       "  </tbody>\n",
       "</table>\n",
       "</div>"
      ],
      "text/plain": [
       "   MarksA  MarksB  MarksC\n",
       "0    73.0    39.0    56.0\n",
       "1    59.0    24.0    10.0\n",
       "2    90.0    53.0    53.0\n",
       "3    64.0    35.0    84.0\n",
       "4    36.0    61.0    93.0"
      ]
     },
     "execution_count": 6,
     "metadata": {},
     "output_type": "execute_result"
    }
   ],
   "source": [
    "df.head()"
   ]
  },
  {
   "cell_type": "code",
   "execution_count": 7,
   "id": "6f6de6c2",
   "metadata": {},
   "outputs": [],
   "source": [
    "df.to_csv('marks.csv')"
   ]
  },
  {
   "cell_type": "code",
   "execution_count": 8,
   "id": "285a4c72",
   "metadata": {},
   "outputs": [
    {
     "name": "stdout",
     "output_type": "stream",
     "text": [
      "   Unnamed: 0  MarksA  MarksB  MarksC\n",
      "0           0    73.0    39.0    56.0\n",
      "1           1    59.0    24.0    10.0\n",
      "2           2    90.0    53.0    53.0\n",
      "3           3    64.0    35.0    84.0\n",
      "4           4    36.0    61.0    93.0\n"
     ]
    }
   ],
   "source": [
    "hehe_data=pd.read_csv('marks.csv')\n",
    "print(hehe_data)"
   ]
  },
  {
   "cell_type": "code",
   "execution_count": 9,
   "id": "1953a558",
   "metadata": {},
   "outputs": [
    {
     "name": "stdout",
     "output_type": "stream",
     "text": [
      "   MarksA  MarksB  MarksC\n",
      "0    73.0    39.0    56.0\n",
      "1    59.0    24.0    10.0\n",
      "2    90.0    53.0    53.0\n",
      "3    64.0    35.0    84.0\n",
      "4    36.0    61.0    93.0\n"
     ]
    }
   ],
   "source": [
    "hehe_data=hehe_data.drop(columns=[\"Unnamed: 0\"])\n",
    "print(hehe_data)"
   ]
  },
  {
   "cell_type": "code",
   "execution_count": 10,
   "id": "11b308b7",
   "metadata": {},
   "outputs": [
    {
     "data": {
      "text/html": [
       "<div>\n",
       "<style scoped>\n",
       "    .dataframe tbody tr th:only-of-type {\n",
       "        vertical-align: middle;\n",
       "    }\n",
       "\n",
       "    .dataframe tbody tr th {\n",
       "        vertical-align: top;\n",
       "    }\n",
       "\n",
       "    .dataframe thead th {\n",
       "        text-align: right;\n",
       "    }\n",
       "</style>\n",
       "<table border=\"1\" class=\"dataframe\">\n",
       "  <thead>\n",
       "    <tr style=\"text-align: right;\">\n",
       "      <th></th>\n",
       "      <th>MarksA</th>\n",
       "      <th>MarksB</th>\n",
       "      <th>MarksC</th>\n",
       "    </tr>\n",
       "  </thead>\n",
       "  <tbody>\n",
       "    <tr>\n",
       "      <th>0</th>\n",
       "      <td>73.0</td>\n",
       "      <td>39.0</td>\n",
       "      <td>56.0</td>\n",
       "    </tr>\n",
       "    <tr>\n",
       "      <th>1</th>\n",
       "      <td>59.0</td>\n",
       "      <td>24.0</td>\n",
       "      <td>10.0</td>\n",
       "    </tr>\n",
       "    <tr>\n",
       "      <th>2</th>\n",
       "      <td>90.0</td>\n",
       "      <td>53.0</td>\n",
       "      <td>53.0</td>\n",
       "    </tr>\n",
       "    <tr>\n",
       "      <th>3</th>\n",
       "      <td>64.0</td>\n",
       "      <td>35.0</td>\n",
       "      <td>84.0</td>\n",
       "    </tr>\n",
       "    <tr>\n",
       "      <th>4</th>\n",
       "      <td>36.0</td>\n",
       "      <td>61.0</td>\n",
       "      <td>93.0</td>\n",
       "    </tr>\n",
       "  </tbody>\n",
       "</table>\n",
       "</div>"
      ],
      "text/plain": [
       "   MarksA  MarksB  MarksC\n",
       "0    73.0    39.0    56.0\n",
       "1    59.0    24.0    10.0\n",
       "2    90.0    53.0    53.0\n",
       "3    64.0    35.0    84.0\n",
       "4    36.0    61.0    93.0"
      ]
     },
     "execution_count": 10,
     "metadata": {},
     "output_type": "execute_result"
    }
   ],
   "source": [
    "hehe_data"
   ]
  },
  {
   "cell_type": "code",
   "execution_count": 11,
   "id": "61f14f74",
   "metadata": {},
   "outputs": [
    {
     "name": "stdout",
     "output_type": "stream",
     "text": [
      "          MarksA     MarksB     MarksC\n",
      "count   5.000000   5.000000   5.000000\n",
      "mean   64.400000  42.400000  59.200000\n",
      "std    19.781304  14.690133  32.506922\n",
      "min    36.000000  24.000000  10.000000\n",
      "25%    59.000000  35.000000  53.000000\n",
      "50%    64.000000  39.000000  56.000000\n",
      "75%    73.000000  53.000000  84.000000\n",
      "max    90.000000  61.000000  93.000000\n"
     ]
    }
   ],
   "source": [
    "print(hehe_data.describe())"
   ]
  },
  {
   "cell_type": "code",
   "execution_count": 12,
   "id": "91153357",
   "metadata": {},
   "outputs": [
    {
     "name": "stdout",
     "output_type": "stream",
     "text": [
      "   MarksA  MarksB  MarksC\n",
      "2    90.0    53.0    53.0\n",
      "3    64.0    35.0    84.0\n",
      "4    36.0    61.0    93.0\n"
     ]
    }
   ],
   "source": [
    "print(hehe_data.tail(n=3))"
   ]
  },
  {
   "cell_type": "code",
   "execution_count": 13,
   "id": "b788e560",
   "metadata": {},
   "outputs": [
    {
     "name": "stdout",
     "output_type": "stream",
     "text": [
      "MarksA    64.0\n",
      "MarksB    35.0\n",
      "MarksC    84.0\n",
      "Name: 3, dtype: float32\n"
     ]
    }
   ],
   "source": [
    "print(df.iloc[3])"
   ]
  },
  {
   "cell_type": "code",
   "execution_count": 14,
   "id": "602654a5",
   "metadata": {},
   "outputs": [
    {
     "data": {
      "text/plain": [
       "35.0"
      ]
     },
     "execution_count": 14,
     "metadata": {},
     "output_type": "execute_result"
    }
   ],
   "source": [
    "df.iloc[3,1]"
   ]
  },
  {
   "cell_type": "code",
   "execution_count": 19,
   "id": "8315117a",
   "metadata": {},
   "outputs": [
    {
     "name": "stdout",
     "output_type": "stream",
     "text": [
      "64.0\n"
     ]
    }
   ],
   "source": [
    "idx=df.columns.get_loc('MarksA')\n",
    "print(df.iloc[3,idx])"
   ]
  },
  {
   "cell_type": "code",
   "execution_count": 20,
   "id": "5d8ae337",
   "metadata": {},
   "outputs": [
    {
     "name": "stdout",
     "output_type": "stream",
     "text": [
      "0    73.0\n",
      "1    59.0\n",
      "2    90.0\n",
      "Name: MarksA, dtype: float32\n"
     ]
    }
   ],
   "source": [
    "print(df.iloc[:3,idx])"
   ]
  },
  {
   "cell_type": "code",
   "execution_count": 26,
   "id": "0e101449",
   "metadata": {},
   "outputs": [
    {
     "name": "stdout",
     "output_type": "stream",
     "text": [
      "   MarksA  MarksB  MarksC\n",
      "4    36.0    61.0    93.0\n",
      "3    64.0    35.0    84.0\n",
      "0    73.0    39.0    56.0\n",
      "2    90.0    53.0    53.0\n",
      "1    59.0    24.0    10.0\n"
     ]
    }
   ],
   "source": [
    "print(hehe_data.sort_values(by=['MarksC','MarksA'],ascending=False))"
   ]
  },
  {
   "cell_type": "code",
   "execution_count": 27,
   "id": "01256d6d",
   "metadata": {},
   "outputs": [],
   "source": [
    "data_array=hehe_data.values"
   ]
  },
  {
   "cell_type": "code",
   "execution_count": 28,
   "id": "d5db66ba",
   "metadata": {},
   "outputs": [
    {
     "name": "stdout",
     "output_type": "stream",
     "text": [
      "<class 'pandas.core.frame.DataFrame'>\n"
     ]
    }
   ],
   "source": [
    "print(type(hehe_data))"
   ]
  },
  {
   "cell_type": "code",
   "execution_count": 29,
   "id": "c1a6c278",
   "metadata": {},
   "outputs": [
    {
     "name": "stdout",
     "output_type": "stream",
     "text": [
      "[[73. 39. 56.]\n",
      " [59. 24. 10.]\n",
      " [90. 53. 53.]\n",
      " [64. 35. 84.]\n",
      " [36. 61. 93.]]\n"
     ]
    }
   ],
   "source": [
    "print(data_array)"
   ]
  },
  {
   "cell_type": "code",
   "execution_count": 30,
   "id": "d04b668a",
   "metadata": {},
   "outputs": [
    {
     "name": "stdout",
     "output_type": "stream",
     "text": [
      "<class 'numpy.ndarray'>\n"
     ]
    }
   ],
   "source": [
    "print(type(data_array))"
   ]
  },
  {
   "cell_type": "code",
   "execution_count": 31,
   "id": "6f3de8f7",
   "metadata": {},
   "outputs": [
    {
     "name": "stdout",
     "output_type": "stream",
     "text": [
      "   Physics  Maths  Chemistry\n",
      "0       73     39         56\n",
      "1       59     24         10\n",
      "2       90     53         53\n",
      "3       64     35         84\n",
      "4       36     61         93\n"
     ]
    }
   ],
   "source": [
    "new_df=pd.DataFrame(data_array,dtype='int32',columns=[\"Physics\",\"Maths\",\"Chemistry\"])\n",
    "print(new_df)"
   ]
  },
  {
   "cell_type": "code",
   "execution_count": null,
   "id": "440fa4c1",
   "metadata": {},
   "outputs": [],
   "source": []
  }
 ],
 "metadata": {
  "kernelspec": {
   "display_name": "Python 3 (ipykernel)",
   "language": "python",
   "name": "python3"
  },
  "language_info": {
   "codemirror_mode": {
    "name": "ipython",
    "version": 3
   },
   "file_extension": ".py",
   "mimetype": "text/x-python",
   "name": "python",
   "nbconvert_exporter": "python",
   "pygments_lexer": "ipython3",
   "version": "3.9.5"
  }
 },
 "nbformat": 4,
 "nbformat_minor": 5
}
